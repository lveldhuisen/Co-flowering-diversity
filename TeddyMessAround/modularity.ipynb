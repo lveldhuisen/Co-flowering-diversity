{
 "cells": [
  {
   "cell_type": "code",
   "execution_count": 161,
   "metadata": {},
   "outputs": [],
   "source": [
    "import networkx as nx\n",
    "import numpy as np\n",
    "from pandas import read_csv\n",
    "import matplotlib.pyplot as plt"
   ]
  },
  {
   "cell_type": "code",
   "execution_count": 162,
   "metadata": {},
   "outputs": [],
   "source": [
    "d = read_csv('data/road_2021.csv')"
   ]
  },
  {
   "cell_type": "code",
   "execution_count": 163,
   "metadata": {},
   "outputs": [],
   "source": [
    "Data = np.array(d.values)[:,1:]\n",
    "weights = np.zeros(len(Data[:,1]),dtype=str)\n",
    "weights[0:] = 'weights'"
   ]
  },
  {
   "cell_type": "code",
   "execution_count": 177,
   "metadata": {},
   "outputs": [
    {
     "data": {
      "text/plain": [
       "array([['Achillea.millefolium', 'Achillea.millefolium', 0.0],\n",
       "       ['Agoseris.aurantiaca', 'Achillea.millefolium', 0.3333333],\n",
       "       ['Androsace.septentrionalis', 'Achillea.millefolium',\n",
       "        1.110223e-16],\n",
       "       ...,\n",
       "       ['Taraxacum.officinales', 'Veratrum.tenuipetalum', 0.0],\n",
       "       ['Valeriana.occidentalis', 'Veratrum.tenuipetalum', 0.0],\n",
       "       ['Veratrum.tenuipetalum', 'Veratrum.tenuipetalum', 0.0]],\n",
       "      dtype=object)"
      ]
     },
     "execution_count": 177,
     "metadata": {},
     "output_type": "execute_result"
    }
   ],
   "source": [
    "Data"
   ]
  },
  {
   "cell_type": "code",
   "execution_count": 173,
   "metadata": {},
   "outputs": [],
   "source": [
    "all_possible = dict(enumerate(list(set(list(Data[:,0])))))\n",
    "total_species = len(all_possible)\n",
    "\n",
    "adj_mat = np.zeros((total_species,total_species))\n",
    "\n",
    "keys = list(all_possible.keys())\n",
    "vals = list(all_possible.values())\n",
    "\n",
    "for i in range(len(Data[:,0])):\n",
    "    species1 = Data[i,0]\n",
    "    s1idx = vals.index(species1)\n",
    "    species2 = Data[i,1]\n",
    "    s2idx = vals.index(species2)\n",
    "    adj_mat[s1idx,s2idx] = Data[i,2]\n",
    "\n",
    "adj_mat[np.isnan(adj_mat)] = 0\n",
    "adj_mat[np.where(adj_mat < 1e-14)]=0"
   ]
  },
  {
   "cell_type": "code",
   "execution_count": 172,
   "metadata": {},
   "outputs": [
    {
     "data": {
      "text/plain": [
       "<matplotlib.image.AxesImage at 0x1c8f4158910>"
      ]
     },
     "execution_count": 172,
     "metadata": {},
     "output_type": "execute_result"
    },
    {
     "data": {
      "image/png": "[encoded data removed]",
      "text/plain": [
       "<Figure size 432x288 with 1 Axes>"
      ]
     },
     "metadata": {
      "needs_background": "light"
     },
     "output_type": "display_data"
    }
   ],
   "source": [
    "plt.spy(adj_mat)"
   ]
  },
  {
   "cell_type": "code",
   "execution_count": 179,
   "metadata": {},
   "outputs": [],
   "source": [
    "G = nx.from_numpy_array(adj_mat)"
   ]
  },
  {
   "cell_type": "code",
   "execution_count": 185,
   "metadata": {},
   "outputs": [
    {
     "data": {
      "text/plain": [
       "0.44015969937473476"
      ]
     },
     "execution_count": 185,
     "metadata": {},
     "output_type": "execute_result"
    }
   ],
   "source": [
    "communities = nx.community.louvain_communities(G)\n",
    "nx.community.modularity(G, communities)"
   ]
  },
  {
   "cell_type": "code",
   "execution_count": null,
   "metadata": {},
   "outputs": [],
   "source": [
    "np.savetxt(\"adj_mat.csv\", adj_mat, delimiter=\",\")"
   ]
  }
 ],
 "metadata": {
  "kernelspec": {
   "display_name": "base",
   "language": "python",
   "name": "python3"
  },
  "language_info": {
   "codemirror_mode": {
    "name": "ipython",
    "version": 3
   },
   "file_extension": ".py",
   "mimetype": "text/x-python",
   "name": "python",
   "nbconvert_exporter": "python",
   "pygments_lexer": "ipython3",
   "version": "3.9.12"
  },
  "orig_nbformat": 4
 },
 "nbformat": 4,
 "nbformat_minor": 2
}
